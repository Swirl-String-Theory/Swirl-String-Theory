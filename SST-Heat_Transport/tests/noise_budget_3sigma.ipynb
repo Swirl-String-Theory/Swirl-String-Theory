{
 "cells": [
  {
   "cell_type": "markdown",
   "id": "7241629e",
   "metadata": {},
   "source": [
    "# 3σ Noise-Budget Check\n",
    "We estimate detectability for scenarios (B1,B2) given an IR camera NETD and averaging.\n",
    "Detection threshold: $\\mathrm{SNR}=\\Delta(\\Delta T)/(\\mathrm{NETD}/\\sqrt{N})\\ge 3$."
   ]
  },
  {
   "cell_type": "code",
   "execution_count": null,
   "id": "e8943eab",
   "metadata": {},
   "outputs": [],
   "source": [
    "import pandas as pd\n",
    "from math import sqrt\n",
    "bench = pd.read_csv('benchmarks.csv')\n",
    "NETD = 0.03  # K (30 mK)\n",
    "for N in [1, 4, 9, 16, 25, 100]:\n",
    "    sigma = NETD / sqrt(N)\n",
    "    bench[f'SNR_N={N}'] = bench['DeltaDeltaT_K'] / sigma\n",
    "display(bench)\n"
   ]
  },
  {
   "cell_type": "markdown",
   "id": "51850a5f",
   "metadata": {},
   "source": [
    "Interpretation: SNR≥3 indicates ≥3σ detectability under the assumed NETD and averaging."
   ]
  }
 ],
 "metadata": {},
 "nbformat": 4,
 "nbformat_minor": 5
}
