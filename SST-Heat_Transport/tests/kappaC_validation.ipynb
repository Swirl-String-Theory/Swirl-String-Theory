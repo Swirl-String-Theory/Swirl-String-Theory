{
 "cells": [
  {
   "cell_type": "markdown",
   "id": "e822a5b3",
   "metadata": {},
   "source": [
    "# κ^C validation\n",
    "This notebook reproduces the Lorentzian detuning factor in the coherence contribution to the 1D thermal conductivity:\n",
    "\n",
    "$$\\kappa^{(\\mathrm C)}_{1\\mathrm D} = \\sum_q \\sum_{s\\ne s'} \\frac{(\\Omega_s+\\Omega_{s'})\\,\\Gamma_{ss'}\\,|V^{(x)}_{ss'}|^2}{4\\delta^2+\\Gamma_{ss'}^2}\\left(-\\frac{\\partial n_B}{\\partial T}\\right).$$\n",
    "We demonstrate the $(4\\delta^2+\\Gamma^2)^{-1}$ line shape and check units."
   ]
  },
  {
   "cell_type": "code",
   "execution_count": null,
   "id": "3cb18a29",
   "metadata": {},
   "outputs": [],
   "source": [
    "import numpy as np\n",
    "import matplotlib.pyplot as plt\n",
    "from math import pi\n",
    "\n",
    "def lorentzian(delta, Gamma):\n",
    "    return Gamma / (4*delta**2 + Gamma**2)\n",
    "\n",
    "Gamma = 1.0  # arbitrary units (s^-1)\n",
    "delta = np.linspace(-5, 5, 1001)\n",
    "L = lorentzian(delta, Gamma)\n",
    "plt.figure()\n",
    "plt.plot(delta, L)\n",
    "plt.xlabel('detuning δ (arb. units)')\n",
    "plt.ylabel('Lorentzian factor Γ/(4δ^2+Γ^2)')\n",
    "plt.title('Coherence Lorentzian vs detuning')\n",
    "plt.show()\n"
   ]
  },
  {
   "cell_type": "markdown",
   "id": "406ccda8",
   "metadata": {},
   "source": [
    "### Unit check (symbolic)\n",
    "The Lorentzian factor is dimensionless when $\\delta$ and $\\Gamma$ have the same units (s$^{-1}$)."
   ]
  }
 ],
 "metadata": {},
 "nbformat": 4,
 "nbformat_minor": 5
}
